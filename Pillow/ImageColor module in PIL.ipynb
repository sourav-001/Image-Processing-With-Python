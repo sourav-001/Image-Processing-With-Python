{
 "cells": [
  {
   "cell_type": "markdown",
   "id": "2d1ab7fa",
   "metadata": {},
   "source": [
    "### ImageCms module contains color tables and converts from CSS3 style color specificiers to RGB tuples.\n"
   ]
  },
  {
   "cell_type": "code",
   "execution_count": 1,
   "id": "49875dc7",
   "metadata": {},
   "outputs": [],
   "source": [
    "# importing library\n",
    "import numpy as np\n",
    "import pandas as pd\n",
    "import matplotlib.pyplot as plt\n",
    "%matplotlib inline"
   ]
  },
  {
   "cell_type": "code",
   "execution_count": 2,
   "id": "52077861",
   "metadata": {},
   "outputs": [],
   "source": [
    "# importing PIL\n",
    "import PIL\n",
    "from PIL import Image, ImageColor"
   ]
  },
  {
   "cell_type": "markdown",
   "id": "ac82de29",
   "metadata": {},
   "source": [
    "# Functons"
   ]
  },
  {
   "cell_type": "markdown",
   "id": "add53371",
   "metadata": {},
   "source": [
    "#### Convert a color string to an RGB tuple. If the string cannot br parsed, this function raises a ValueError exeption\n",
    "\n",
    "***\n",
    "`PIL.ImageColor.getrgb(color)`\n",
    "\n",
    "***\n",
    "\n",
    "1.  color - a color string"
   ]
  },
  {
   "cell_type": "code",
   "execution_count": 3,
   "id": "1b805dfb",
   "metadata": {},
   "outputs": [
    {
     "name": "stdout",
     "output_type": "stream",
     "text": [
      "image1 - (255, 165, 0)\n",
      "image2 - (255, 0, 0)\n",
      "image3 - (0, 0, 255)\n",
      "image4 - (255, 255, 0)\n",
      "image5 - (0, 0, 0)\n"
     ]
    }
   ],
   "source": [
    "image1 = ImageColor.getrgb(\"orange\")\n",
    "image2 = ImageColor.getrgb(\"red\")\n",
    "image3 = ImageColor.getrgb(\"blue\")\n",
    "image4 = ImageColor.getrgb(\"yellow\")\n",
    "image5 = ImageColor.getrgb(\"black\")\n",
    "print(f\"image1 - {image1}\\nimage2 - {image2}\\nimage3 - {image3}\\n\"\n",
    "     f\"image4 - {image4}\\nimage5 - {image5}\")"
   ]
  },
  {
   "cell_type": "code",
   "execution_count": 4,
   "id": "a2706c5c",
   "metadata": {},
   "outputs": [
    {
     "data": {
      "text/plain": [
       "<matplotlib.image.AxesImage at 0x1fc893994f0>"
      ]
     },
     "execution_count": 4,
     "metadata": {},
     "output_type": "execute_result"
    },
    {
     "data": {
      "image/png": "[encoded data removed]",
      "text/plain": [
       "<Figure size 432x288 with 1 Axes>"
      ]
     },
     "metadata": {
      "needs_background": "light"
     },
     "output_type": "display_data"
    }
   ],
   "source": [
    "# create image using new\n",
    "# PIL.Image.new(mode, size, color)\n",
    "\n",
    "image6 = Image.new(mode=\"RGB\", size=(32, 32), color=\"lightgrey\")\n",
    "\n",
    "# plot image\n",
    "#image6.show()\n",
    "plt.imshow(image6)"
   ]
  },
  {
   "cell_type": "code",
   "execution_count": 5,
   "id": "74e6e99f",
   "metadata": {},
   "outputs": [
    {
     "data": {
      "text/plain": [
       "<matplotlib.image.AxesImage at 0x1fc8949f280>"
      ]
     },
     "execution_count": 5,
     "metadata": {},
     "output_type": "execute_result"
    },
    {
     "data": {
      "image/png": "[encoded data removed]",
      "text/plain": [
       "<Figure size 432x288 with 1 Axes>"
      ]
     },
     "metadata": {
      "needs_background": "light"
     },
     "output_type": "display_data"
    }
   ],
   "source": [
    "# we can u=create image in this way also \n",
    "# this both ways are identical\n",
    "image7 = Image.new(mode=\"RGB\", size=(32, 32), color=ImageColor.getrgb(\"lightgrey\"))\n",
    "\n",
    "plt.imshow(image7)"
   ]
  },
  {
   "cell_type": "code",
   "execution_count": 6,
   "id": "1ce63551",
   "metadata": {},
   "outputs": [
    {
     "name": "stdout",
     "output_type": "stream",
     "text": [
      "mode= RGB\n",
      "size=(32, 32)\n"
     ]
    },
    {
     "data": {
      "image/png": "[encoded data removed]",
      "text/plain": [
       "<Figure size 432x288 with 1 Axes>"
      ]
     },
     "metadata": {
      "needs_background": "light"
     },
     "output_type": "display_data"
    }
   ],
   "source": [
    "# create an image of rgb tuple \n",
    "image8 = Image.new(mode=\"RGB\", size=(32, 32), color=(173, 216, 230))\n",
    "\n",
    "# plot image\n",
    "plt.imshow(image8)\n",
    "#mage8.show()\n",
    "\n",
    "# print mode, size\n",
    "print(f\"mode= {image8.mode}\\nsize={image8.size}\")"
   ]
  },
  {
   "cell_type": "code",
   "execution_count": 7,
   "id": "7e1fe666",
   "metadata": {},
   "outputs": [],
   "source": [
    "# create another image with rgb tuple\n",
    "image9 = Image.new(mode=\"L\", size=(500, 500), color=(216))\n",
    "\n",
    "# show image9\n",
    "image9.show()"
   ]
  },
  {
   "cell_type": "markdown",
   "id": "1e2208a4",
   "metadata": {},
   "source": [
    "#### Same as retrgb(), but converts the RGB value to agrayscale value if the mode is not a palette image. If the string cannot be parsed, this function raises a ValueError exception.\n",
    "\n",
    "***\n",
    "`PIL.ImageColor.getcolor(color, mode)`\n",
    "***"
   ]
  },
  {
   "cell_type": "code",
   "execution_count": 15,
   "id": "a8128bee",
   "metadata": {},
   "outputs": [
    {
     "name": "stdout",
     "output_type": "stream",
     "text": [
      "(0, 0, 255)\n",
      "(0, 0, 255, 255)\n",
      "29\n"
     ]
    }
   ],
   "source": [
    "image10 = ImageColor.getcolor(\"blue\", \"RGB\")\n",
    "print(image10)\n",
    "\n",
    "image11 = ImageColor.getcolor(\"blue\", \"RGBA\")\n",
    "print(image11)\n",
    "\n",
    "image12 = ImageColor.getcolor(\"blue\", \"L\")\n",
    "print(image12)"
   ]
  },
  {
   "cell_type": "code",
   "execution_count": null,
   "id": "295ea963",
   "metadata": {},
   "outputs": [],
   "source": []
  }
 ],
 "metadata": {
  "kernelspec": {
   "display_name": "Python 3 (ipykernel)",
   "language": "python",
   "name": "python3"
  },
  "language_info": {
   "codemirror_mode": {
    "name": "ipython",
    "version": 3
   },
   "file_extension": ".py",
   "mimetype": "text/x-python",
   "name": "python",
   "nbconvert_exporter": "python",
   "pygments_lexer": "ipython3",
   "version": "3.8.11"
  }
 },
 "nbformat": 4,
 "nbformat_minor": 5
}
