{
 "cells": [
  {
   "cell_type": "markdown",
   "id": "eb1c4c90",
   "metadata": {},
   "source": [
    "# Image Processing:\n",
    "### As the name suggest image processing van simply be defined as the processing ( analyzing and manipulation) of images with algorithms in a computer."
   ]
  },
  {
   "cell_type": "markdown",
   "id": "18b31565",
   "metadata": {},
   "source": [
    "# What is an image and how it is stored on a computer?\n",
    "### An image in its simplest from[1] is a two-dimensional function f(x,y) that maps a cordinate-pair to an integer/real value, which is related to the intensity/color of the point. Each point is called a pixel. An image can have multiple channels[2] too. For a colored RGB image each pixel at the (x,) coordinate can be represented by a three-tuple  (rx,y, gx,y, bx,y).\n",
    "\n",
    "[1] - single- channel: e.g. binary or monochrome, grayscale or black and white images. \n",
    "[2] - colored RGB images, where a volor can be represented using three channels - red, green, and blue."
   ]
  },
  {
   "cell_type": "markdown",
   "id": "5fd70c90",
   "metadata": {},
   "source": [
    "### in a computer a pixel value corresponding to a channel is generally represented as an integer value between (0-255) or a floating value between (0-1).\n",
    "\n",
    "### An image is stored as a file, and there can be many different types (formats) of files. Each file generally has some metadata and some data that can be extracted as multi-dimensional arrays. 2D arrays for binary or gray-level images and 3D arrays for RGB and YUV colored images"
   ]
  },
  {
   "cell_type": "markdown",
   "id": "e48f7951",
   "metadata": {},
   "source": [
    "# what is image processing?\n",
    "### Image processing refers to the automatic processing, manipulation, analysis, and interpretation of images using algorithms and codes on a computer.\n"
   ]
  },
  {
   "cell_type": "markdown",
   "id": "bbfde945",
   "metadata": {},
   "source": [
    "### different modles for image processing task\n",
    "\n",
    "## image I/O, Display, Draw, Mode, Stats\n",
    "### (sickit-image io, util, viwer, color, exposure, draw, measure modules, PIL Image, ImageFile, ImageDraw, ImageMath, ImageStat modules, Matplotlib image module)\n",
    "\n",
    "## Image Manipulation/Transformation/Morphology\n",
    "### (sickit-image transform, util, morphology modules, PIL Image, ImageMorph, ImageChops modules)\n",
    "\n",
    "## Image Enhancement/Filter/Restoration/Segmentaton/Feature extraction\n",
    "### (sickit-image filers, filters.rank, restoration, segmentation, graph, future.graph, feature modules, PIL ImageEnhance, ImageFilter modules)\n",
    "\n",
    "### and --> scipy.ndimage and opencv, sickit-learn for classical machine learning, tensorflow and keras for deep learning"
   ]
  },
  {
   "cell_type": "code",
   "execution_count": 6,
   "id": "503faa6f",
   "metadata": {},
   "outputs": [
    {
     "data": {
      "text/plain": [
       "('0.18.1', '8.2.0', '1.20.2')"
      ]
     },
     "execution_count": 6,
     "metadata": {},
     "output_type": "execute_result"
    }
   ],
   "source": [
    "# importing some libraries and check their version\n",
    "import skimage, PIL, numpy\n",
    "skimage.__version__, PIL.__version__, numpy.__version__"
   ]
  },
  {
   "cell_type": "markdown",
   "id": "4d74f62c",
   "metadata": {},
   "source": [
    "# Image I/O and display with python"
   ]
  },
  {
   "cell_type": "markdown",
   "id": "f7db96bc",
   "metadata": {},
   "source": [
    "* \n",
    "*\n",
    "*"
   ]
  },
  {
   "cell_type": "code",
   "execution_count": null,
   "id": "9bff7207",
   "metadata": {},
   "outputs": [],
   "source": [
    "# importing all of the required packages\n",
    "# for inline image display inside noebook\n",
    "%matplotlib inline\n",
    "import numpy as np\n",
    "\n",
    "# impoting Image, ImageFont, ImageDraw from pillow package \n",
    "from PIL import Image, ImageFont, ImageDraw\n",
    "\n",
    "# imprting few functions from PIL.ImageChops\n",
    "from PIL.ImageChops import add, subtract, multiply, difference, screen\n",
    "\n",
    "# importing ImageStat from pillow\n",
    "import PIL.ImageStat as stat\n",
    "\n",
    "# import I/O functions from skimage.io\n",
    "from skimage.io import imread, imsave, imshow, imread_collection, imshow_collection\n",
    "\n",
    "from skimage import color, viewer, exposure, img_as_float, data\n",
    "from skimage.transform import SimilarityTransform, warp, swirl\n",
    "from skimage.util import invert, random_noise, montage\n",
    "import matplotlib.image as mpimg\n",
    "import matplotlib.pyplot as plt\n",
    "\n",
    "from scipy.ndimage import affine_transform, zoom\n",
    "\n",
    "from scipy import misc\n"
   ]
  }
 ],
 "metadata": {
  "kernelspec": {
   "display_name": "Python 3",
   "language": "python",
   "name": "python3"
  },
  "language_info": {
   "codemirror_mode": {
    "name": "ipython",
    "version": 3
   },
   "file_extension": ".py",
   "mimetype": "text/x-python",
   "name": "python",
   "nbconvert_exporter": "python",
   "pygments_lexer": "ipython3",
   "version": "3.8.8"
  }
 },
 "nbformat": 4,
 "nbformat_minor": 5
}
