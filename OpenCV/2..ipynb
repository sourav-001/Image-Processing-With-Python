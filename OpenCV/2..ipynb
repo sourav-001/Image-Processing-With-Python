{
 "cells": [
  {
   "cell_type": "markdown",
   "id": "6afe1afd",
   "metadata": {},
   "source": [
    "2. "
   ]
  },
  {
   "cell_type": "code",
   "execution_count": null,
   "id": "7a16e4c7",
   "metadata": {},
   "outputs": [],
   "source": [
    "def main():\n",
    "    print(\"Which Toy Story Character Are You?\")\n",
    "    print()\n",
    "    \n",
    "    print(\"Are you a natural leader?\\n(a) Yes\\n(b) No\")\n",
    "    main_q = input(\"Your answer: \")\n",
    "    #main_q = input(\"Are you a natural leader?\\n(a) Yes\\n(b) No\\nYour answer: \")\n",
    "    \n",
    "    # main q yes\n",
    "    if main_q == \"a\" or \"A\":\n",
    "        print(\"\\nHave you been known to get jealous?\\n(a) Yes\\n(b) No\")\n",
    "        main_q_a = input(\"Your answer: \")\n",
    "        # yes\n",
    "        if main_q_a == \"a\" or \"A\":\n",
    "            print(\"Do you admit your mistakes?\\n() Yes\\n() No\")\n",
    "            main_q_a_1 = input(\"Your answer: \")\n",
    "            # yes\n",
    "            if main_q_a_1 == \"a\" or \"A\":\n",
    "                print(\"Are you a fashionista?\\n(a) Yes\\n(b) No\")\n",
    "                main_q_a_1_1 = input(\"Your answer: \")\n",
    "                # yes\n",
    "                if main_q_a_1_1 == \"a\" or \"A\":\n",
    "                    print(\"Ken\")\n",
    "                # no\n",
    "                elif main_q_a_1_1 == \"b\" or \"B\":\n",
    "                    print(\"Woody\")\n",
    "            # no\n",
    "            elif main_q_a_1 == \"b\" or \"B\":\n",
    "                print(\"Are you obsessed with hygiene?\\n(a) Yes\\n(b) No\")\n",
    "                main_q_a_1_2 = input(\"Your answer: \")\n",
    "                # yes\n",
    "                if main_q_a_1_2 == \"a\" or \"A\":\n",
    "                    print(\"Stinky\")\n",
    "                # no\n",
    "                elif main_q_a_1_2 == \"b\" or \"B\":\n",
    "                    print(\"Lotso\")\n",
    "        # no\n",
    "        elif main_q_a == \"b\" or \"B\":\n",
    "            print(\"Can you fly?\\n(a) Yes\\n(b) No\")\n",
    "            main_q_a_2 = input(\"Your answer: \")\n",
    "            # yes\n",
    "            if main_q_a_2 == \"a\" or \"A\":\n",
    "                print(\"Sarge\")\n",
    "            # no\n",
    "            elif main_q_a_2 == \"b\" or \"B\":\n",
    "                print(\"Buzz\")\n",
    "    # main q no\n",
    "    elif main_q == \"b\" or \"B\":\n",
    "        print(\"\\nIs your IQ above or below average?\\n(a) What's IQ?\\n(b) Above\")\n",
    "        main_q_b = input(\"Your answer: \")\n",
    "        # yes\n",
    "        if main_q_b == \"a\" or \"A\":\n",
    "            print(\"Do you at least use your head?\\n(a) Yes\\n(b) No\")\n",
    "            main_q_b_1 = input(\"Your answer: \")\n",
    "            # yes\n",
    "            if main_q_b_1 == \"a\" or \"A\":\n",
    "                print(\"REX\")\n",
    "            # no\n",
    "            elif main_q_b_1 == \"b\" or \"B\":\n",
    "                print(\"Green animals\")\n",
    "        # no\n",
    "        elif main_q_b == \"b\" or \"B\":\n",
    "            print(\"Do you like to stretch yourself?\\n(a) Yes\\n(b) No\")\n",
    "            main_q_b_2 = input(\"Your answer: \")\n",
    "            # yes\n",
    "            if main_q_b_2 == \"a\" or \"A\":\n",
    "                print(\"Slinky\")\n",
    "            # no\n",
    "            elif main_q_b_2 == \"b\" or \"B\":\n",
    "                print(\"Are you outdoorsy?\\n(a) Yes\\n(b) No\")\n",
    "                main_q_b_2_1 = input(\"Your answer: \")\n",
    "                # yes\n",
    "                if main_q_b_2_1 == \"a\" or \"A\":\n",
    "                    print(\"Jessie\")\n",
    "                # no\n",
    "                elif main_q_b_2_1 == \"b\" or \"B\":\n",
    "                    print(\"Bacon or hashbrowns?\\n(a) HASH BROWNS\\n(b) BACON\")\n",
    "                    main_q_b_2_1_2 = input(\"Your answer: \")\n",
    "                    # yes\n",
    "                    if main_q_b_2_1_2 == \"a\" or \"A\":\n",
    "                        print(\"HAMM\")\n",
    "                    # no\n",
    "                    elif main_q_b_2_1_2 == \"b\" or \"B\":\n",
    "                        print(\"Mrs potato head\")"
   ]
  },
  {
   "cell_type": "code",
   "execution_count": null,
   "id": "e0036648",
   "metadata": {},
   "outputs": [],
   "source": [
    "main()"
   ]
  },
  {
   "cell_type": "code",
   "execution_count": 3,
   "id": "8769452b",
   "metadata": {},
   "outputs": [
    {
     "name": "stdout",
     "output_type": "stream",
     "text": [
      "Are you a natural leader?\n",
      "(a) Yes\n",
      "(b) No\n",
      "Your answer: a\n"
     ]
    }
   ],
   "source": [
    "print(\"Are you a natural leader?\\n(a) Yes\\n(b) No\")\n",
    "opt = input(\"Your answer: \")"
   ]
  },
  {
   "cell_type": "code",
   "execution_count": null,
   "id": "520ada9f",
   "metadata": {},
   "outputs": [],
   "source": []
  }
 ],
 "metadata": {
  "kernelspec": {
   "display_name": "Python 3 (ipykernel)",
   "language": "python",
   "name": "python3"
  },
  "language_info": {
   "codemirror_mode": {
    "name": "ipython",
    "version": 3
   },
   "file_extension": ".py",
   "mimetype": "text/x-python",
   "name": "python",
   "nbconvert_exporter": "python",
   "pygments_lexer": "ipython3",
   "version": "3.8.11"
  }
 },
 "nbformat": 4,
 "nbformat_minor": 5
}
