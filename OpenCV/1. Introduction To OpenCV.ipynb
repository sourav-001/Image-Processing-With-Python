{
 "cells": [
  {
   "cell_type": "markdown",
   "id": "9cc015de",
   "metadata": {},
   "source": [
    "# Load, Show and Write an image"
   ]
  },
  {
   "cell_type": "code",
   "execution_count": 1,
   "id": "2c950eb4",
   "metadata": {},
   "outputs": [],
   "source": [
    "# load few library\n",
    "import matplotlib.pyplot as plt\n",
    "%matplotlib inline"
   ]
  },
  {
   "cell_type": "code",
   "execution_count": 2,
   "id": "8e736ba8",
   "metadata": {},
   "outputs": [],
   "source": [
    "# first import OpenCV library\n",
    "import cv2 as cv"
   ]
  },
  {
   "cell_type": "markdown",
   "id": "c1d515b3",
   "metadata": {},
   "source": [
    "###  ------------------------------------------------------------------------------------------------------------------------------------------------------------------\n",
    "1. cv2.IMREAD_COLOR : reads the image with RGB colors but no transparency channel. This is the default value for the flag when no value is provided as the second argument for cv2.imread().\n",
    "### --------------------------------------------------------------------------------------------------------------------------------------------------------------\n",
    "2. cv2.IMREAD_GRAYSCALE : reads the image as grey image. If the source image is color image, grey value of each pixel is calculated by taking the average of color channels, and is read into the array.\n",
    "### --------------------------------------------------------------------------------------------------------------------------------------------------------------\n",
    "3. cv2.IMREAD_UNCHANGED : reads the image as is from the source. If the source image is an RGB, it loads the image into array with Red, Green and Blue channels. If the source image is ARGB, it loads the image with three color components along with the alpha or transparency channel.\n",
    "\n",
    "### -------------------------------------------------------------------------------------------------------------------------------------------------------------------"
   ]
  },
  {
   "cell_type": "markdown",
   "id": "a72a5e0e",
   "metadata": {},
   "source": [
    "***\n",
    "### `cv2.imread(file-name, flag)`\n",
    "1. file-name - name/path of the image to be read.\n",
    "2. flag - Describe how to read the image.\n",
    "           * cv2.IMREAD_UNCHANGED or -1\n",
    "           * cv2.IMREAD_GRAYSCALE or 0\n",
    "           * cv2.IMREAD_COLOR or 1\n",
    "\n",
    "### `cv2.imshow(window_name, image)`\n",
    "1. window_name - Name that will be displayed on the window\n",
    "2. Image -  the image i want to be diplayed\n",
    "\n",
    "### `cv2.imwrite(file_name, image)`\n",
    "1. file_name - image name with extensions to be said.\n",
    "2. image - image to be save\n",
    "***"
   ]
  },
  {
   "cell_type": "markdown",
   "id": "44bdd89b",
   "metadata": {},
   "source": [
    "### 1. imread() help us read an image.\n",
    "\n",
    "### 2. imshow() displays an image in a window.\n",
    "\n",
    "### 3. imwrite() writes an image into the directory."
   ]
  },
  {
   "cell_type": "code",
   "execution_count": 4,
   "id": "7a166b17",
   "metadata": {},
   "outputs": [
    {
     "data": {
      "text/plain": [
       "True"
      ]
     },
     "execution_count": 4,
     "metadata": {},
     "output_type": "execute_result"
    }
   ],
   "source": [
    "# cv2 is imported so i am not going to import it again\n",
    "\n",
    "image1 = cv.imread(\"Images/shaktiman.jpg\", 0)\n",
    "\n",
    "# display image in a window\n",
    "cv.imshow(\"Grayscale image\", image1)\n",
    "\n",
    "# waitKey() waits for a key press to close the window and 0 specifies indefinite loop\n",
    "cv.waitKey(0)\n",
    "\n",
    "# cv.destroyAllWindows() simply destroys all the windows we created.\n",
    "cv.destroyAllWindows()\n",
    "\n",
    "# cv.imwrite() is used to write an image.\n",
    "cv.imwrite(\"Images/Output-Images/Shaktiman_greyscale.jpg\", image1)"
   ]
  },
  {
   "cell_type": "code",
   "execution_count": 5,
   "id": "1c5543ea",
   "metadata": {},
   "outputs": [
    {
     "name": "stdout",
     "output_type": "stream",
     "text": [
      "Image Dimensions (1080, 1920, 3)\n"
     ]
    }
   ],
   "source": [
    "# read image\n",
    "image2 = cv.imread(\"Images/reverse-flash 1.jpg\")\n",
    "\n",
    "# print its shape\n",
    "# image.shape returns tuple representing ( height, width, number_of_channels).\n",
    "print(f\"Image Dimensions {image2.shape}\")\n",
    "\n",
    "# show image1\n",
    "cv.imshow(\"Reverse Flash color image\", image2)\n",
    "cv.waitKey(0)\n",
    "cv.destroyAllWindows()"
   ]
  },
  {
   "cell_type": "code",
   "execution_count": 6,
   "id": "bfb7fddb",
   "metadata": {},
   "outputs": [
    {
     "name": "stdout",
     "output_type": "stream",
     "text": [
      "Image Dimensions (1080, 1920)\n"
     ]
    }
   ],
   "source": [
    "# read image as gray scale\n",
    "image3 = cv.imread(\"Images/reverse-flash 1.jpg\", cv.IMREAD_GRAYSCALE)\n",
    "\n",
    "# print its shape\n",
    "print(f\"Image Dimensions {image3.shape}\")\n",
    "\n",
    "# show image2\n",
    "cv.imshow(\"Reverse Flash grayscale\", image3)\n",
    "cv.waitKey(0)\n",
    "cv.destroyAllWindows()"
   ]
  },
  {
   "cell_type": "code",
   "execution_count": 9,
   "id": "fe1297f5",
   "metadata": {},
   "outputs": [
    {
     "name": "stdout",
     "output_type": "stream",
     "text": [
      "Image Dimensions (1080, 1920, 3)\n"
     ]
    }
   ],
   "source": [
    "# read image with transparency channel\n",
    "image4 = cv.imread(\"Images/reverse-flash 1.jpg\", cv.IMREAD_UNCHANGED)\n",
    "\n",
    "# print its shape\n",
    "print(f\"Image Dimensions {image4.shape}\")\n",
    "\n",
    "# show image2\n",
    "cv.imshow(\"Reverse Flash With transparency channel\", image4)\n",
    "cv.waitKey(0)\n",
    "cv.destroyAllWindows()"
   ]
  },
  {
   "cell_type": "code",
   "execution_count": 8,
   "id": "bfa0c206",
   "metadata": {},
   "outputs": [
    {
     "name": "stdout",
     "output_type": "stream",
     "text": [
      "Image Dimensions (1080, 1920, 3)\n"
     ]
    }
   ],
   "source": [
    "# Read image without transparency channel\n",
    "image5 = cv.imread(\"Images/reverse-flash 1.jpg\", cv.IMREAD_COLOR)\n",
    "\n",
    "# print its shape\n",
    "print(f\"Image Dimensions {image5.shape}\")\n",
    "\n",
    "# show image2\n",
    "cv.imshow(\"Reverse Flash Without transparency channel\", image5)\n",
    "cv.waitKey(0)\n",
    "cv.destroyAllWindows()"
   ]
  },
  {
   "cell_type": "markdown",
   "id": "24d83f28",
   "metadata": {},
   "source": [
    "##### imread() decodes thr image into a matrix the color channels stores in the order of BGR and A (alpha or transparency)\n",
    "#### if (200, 400, 4) is the shape of the image then\n",
    "##### (:, :, 0) represents the Blue channel\n",
    "##### (:, :, 1) represents the Green channel\n",
    "##### (:, :, 2) represents the Red channel\n",
    "##### (:, :, 3) represents the Alpha channel"
   ]
  },
  {
   "cell_type": "code",
   "execution_count": 10,
   "id": "369d8196",
   "metadata": {},
   "outputs": [],
   "source": []
  },
  {
   "cell_type": "code",
   "execution_count": null,
   "id": "bf7f0bb9",
   "metadata": {},
   "outputs": [],
   "source": []
  }
 ],
 "metadata": {
  "kernelspec": {
   "display_name": "Python 3 (ipykernel)",
   "language": "python",
   "name": "python3"
  },
  "language_info": {
   "codemirror_mode": {
    "name": "ipython",
    "version": 3
   },
   "file_extension": ".py",
   "mimetype": "text/x-python",
   "name": "python",
   "nbconvert_exporter": "python",
   "pygments_lexer": "ipython3",
   "version": "3.8.11"
  }
 },
 "nbformat": 4,
 "nbformat_minor": 5
}
