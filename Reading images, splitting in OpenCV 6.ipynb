{
 "cells": [
  {
   "cell_type": "markdown",
   "id": "c18befa1",
   "metadata": {},
   "source": [
    "# Reading images, Splitting channels, Resizing using OpenCv\n",
    "\n",
    "### OpenCv is used for many things, for example facial recognition, object detection, motion tracking, optical character recognition, etc."
   ]
  },
  {
   "cell_type": "markdown",
   "id": "4b43050e",
   "metadata": {},
   "source": [
    "### in open cv when we read color images , by default the convention is not RGB it is BGR"
   ]
  },
  {
   "cell_type": "code",
   "execution_count": 1,
   "id": "eb602341",
   "metadata": {},
   "outputs": [],
   "source": [
    "# import some libraries\n",
    "import numpy as np\n",
    "import pandas as pd\n",
    "import matplotlib.pyplot as plt\n",
    "%matplotlib inline"
   ]
  },
  {
   "cell_type": "code",
   "execution_count": 2,
   "id": "4eda39a9",
   "metadata": {},
   "outputs": [],
   "source": [
    "# importing opencv library\n",
    "import cv2"
   ]
  },
  {
   "cell_type": "code",
   "execution_count": 3,
   "id": "b1ac33a1",
   "metadata": {},
   "outputs": [
    {
     "name": "stdout",
     "output_type": "stream",
     "text": [
      "(4000, 4000, 3)\n"
     ]
    }
   ],
   "source": [
    "# loading an image through opencv\n",
    "\n",
    "img = cv2.imread(\"Images/bloodcells-1.jpg\")\n",
    "\n",
    "# printing shape of the image\n",
    "\n",
    "print(img.shape)"
   ]
  },
  {
   "cell_type": "code",
   "execution_count": 4,
   "id": "d18ec3b6",
   "metadata": {},
   "outputs": [
    {
     "name": "stdout",
     "output_type": "stream",
     "text": [
      "(4000, 4000)\n"
     ]
    }
   ],
   "source": [
    "# now reading same image as gray\n",
    "# here '0' is nothing but i am reading the 'RGB' image as gray level image.\n",
    "img_as_gray = cv2.imread(\"Images/bloodcells-1.jpg\", 0)\n",
    "\n",
    "# printing shape of the image\n",
    "\n",
    "print(img_as_gray.shape)"
   ]
  },
  {
   "cell_type": "code",
   "execution_count": 23,
   "id": "f6b293bd",
   "metadata": {},
   "outputs": [
    {
     "name": "stdout",
     "output_type": "stream",
     "text": [
      "(586, 415, 3)\n"
     ]
    }
   ],
   "source": [
    "# load 'rgby.jpg' in color format\n",
    "\n",
    "img_rgby = cv2.imread(\"Images/RGBY1.jpg\")\n",
    "\n",
    "# print image shape\n",
    "print(img_rgby.shape)\n",
    "\n",
    "# show image\n",
    "cv2.imshow(\"original image\",img_rgby)\n",
    "cv2.waitKey(0)\n",
    "cv2.destroyAllWindows()"
   ]
  },
  {
   "cell_type": "code",
   "execution_count": 20,
   "id": "094afc80",
   "metadata": {},
   "outputs": [
    {
     "name": "stdout",
     "output_type": "stream",
     "text": [
      "Top left [6 9 0]\n",
      "Top right [ 0 17 19]\n",
      "Bottom left [ 0 46  0]\n",
      "Bottom right [ 16   6 250]\n"
     ]
    }
   ],
   "source": [
    "# print pixel values of individual\n",
    "print(\"Top left\", img_rgby[0,0])\n",
    "\n",
    "print(\"Top right\", img_rgby[0,400])\n",
    "\n",
    "print(\"Bottom left\", img_rgby[580,0])\n",
    "\n",
    "print(\"Bottom right\", img_rgby[580,400])"
   ]
  },
  {
   "cell_type": "code",
   "execution_count": 27,
   "id": "4e24f337",
   "metadata": {},
   "outputs": [],
   "source": [
    "# split and merging\n",
    "\n",
    "blue = img_rgby[:, :, 0] # show only blue BGR B=0\n",
    "green = img_rgby[:, :, 1] # show only green\n",
    "red = img_rgby[:, :, 2] # show only red\n",
    "\n",
    "cv2.imshow(\"original image\", img_rgby)\n",
    "cv2.imshow(\"blue pixel\", blue)\n",
    "cv2.imshow(\"green pixel\", green)\n",
    "cv2.imshow(\"red pixel\", red)\n",
    "cv2.waitKey(0)\n",
    "cv2.destroyAllWindows()"
   ]
  },
  {
   "cell_type": "code",
   "execution_count": 26,
   "id": "5c3131b8",
   "metadata": {},
   "outputs": [],
   "source": [
    "# split using split function\n",
    "blue, green, red = cv2.split(img_rgby)\n",
    "\n",
    "cv2.imshow(\"original image\", img_rgby)\n",
    "cv2.imshow(\"blue pixel\", blue)\n",
    "cv2.imshow(\"green pixel\", green)\n",
    "cv2.imshow(\"red pixel\", red)\n",
    "cv2.waitKey(0)\n",
    "cv2.destroyAllWindows()"
   ]
  },
  {
   "cell_type": "code",
   "execution_count": 29,
   "id": "052c49a8",
   "metadata": {},
   "outputs": [],
   "source": [
    "# merge image\n",
    "blue, green, red = cv2.split(img_rgby)\n",
    "\n",
    "image_merged = cv2.merge((blue, green, red))\n",
    "cv2.imshow(\"merged\", image_merged)\n",
    "cv2.waitKey(0)\n",
    "cv2.destroyAllWindows()"
   ]
  },
  {
   "cell_type": "code",
   "execution_count": 30,
   "id": "6b35ab76",
   "metadata": {},
   "outputs": [
    {
     "ename": "TypeError",
     "evalue": "destroyWindow() missing required argument 'winname' (pos 1)",
     "output_type": "error",
     "traceback": [
      "\u001b[1;31m---------------------------------------------------------------------------\u001b[0m",
      "\u001b[1;31mTypeError\u001b[0m                                 Traceback (most recent call last)",
      "\u001b[1;32m<ipython-input-30-10db4307d1bb>\u001b[0m in \u001b[0;36m<module>\u001b[1;34m\u001b[0m\n\u001b[0;32m      5\u001b[0m \u001b[0mcv2\u001b[0m\u001b[1;33m.\u001b[0m\u001b[0mimshow\u001b[0m\u001b[1;33m(\u001b[0m\u001b[1;34m\"resized image\"\u001b[0m\u001b[1;33m,\u001b[0m \u001b[0mresized\u001b[0m\u001b[1;33m)\u001b[0m\u001b[1;33m\u001b[0m\u001b[1;33m\u001b[0m\u001b[0m\n\u001b[0;32m      6\u001b[0m \u001b[0mcv2\u001b[0m\u001b[1;33m.\u001b[0m\u001b[0mwaitKey\u001b[0m\u001b[1;33m(\u001b[0m\u001b[1;36m0\u001b[0m\u001b[1;33m)\u001b[0m\u001b[1;33m\u001b[0m\u001b[1;33m\u001b[0m\u001b[0m\n\u001b[1;32m----> 7\u001b[1;33m \u001b[0mcv2\u001b[0m\u001b[1;33m.\u001b[0m\u001b[0mdestroyWindow\u001b[0m\u001b[1;33m(\u001b[0m\u001b[1;33m)\u001b[0m\u001b[1;33m\u001b[0m\u001b[1;33m\u001b[0m\u001b[0m\n\u001b[0m",
      "\u001b[1;31mTypeError\u001b[0m: destroyWindow() missing required argument 'winname' (pos 1)"
     ]
    }
   ],
   "source": [
    "# resizing images\n",
    "image = cv2.imread(\"Images/3.jpg.jpg\")\n",
    "resized = cv2.resize(image, None, fx=2, fy=2, interpolation=cv2.INTER_CUBIC)\n",
    "cv2.imshow(\"original image\", image)\n",
    "cv2.imshow(\"resized image\", resized)\n",
    "cv2.waitKey(0)\n",
    "cv2.destroyWindow()"
   ]
  },
  {
   "cell_type": "code",
   "execution_count": null,
   "id": "a80356d0",
   "metadata": {},
   "outputs": [],
   "source": []
  }
 ],
 "metadata": {
  "kernelspec": {
   "display_name": "Python 3",
   "language": "python",
   "name": "python3"
  },
  "language_info": {
   "codemirror_mode": {
    "name": "ipython",
    "version": 3
   },
   "file_extension": ".py",
   "mimetype": "text/x-python",
   "name": "python",
   "nbconvert_exporter": "python",
   "pygments_lexer": "ipython3",
   "version": "3.8.8"
  }
 },
 "nbformat": 4,
 "nbformat_minor": 5
}
