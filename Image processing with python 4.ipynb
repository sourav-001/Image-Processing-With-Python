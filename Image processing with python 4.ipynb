{
 "cells": [
  {
   "cell_type": "markdown",
   "id": "ba5f5061",
   "metadata": {},
   "source": [
    "# image processing using scipy in python"
   ]
  },
  {
   "cell_type": "code",
   "execution_count": 1,
   "id": "b11ce8c6",
   "metadata": {},
   "outputs": [],
   "source": [
    "# scipy is a part of numpy stack\n",
    "# importing some basic library\n",
    "\n",
    "import numpy as np\n",
    "import pandas as pd\n",
    "import matplotlib.pyplot as plt\n",
    "%matplotlib inline"
   ]
  },
  {
   "cell_type": "code",
   "execution_count": 2,
   "id": "2b3ae3dd",
   "metadata": {},
   "outputs": [
    {
     "ename": "AttributeError",
     "evalue": "module 'scipy.misc' has no attribute 'imread'",
     "output_type": "error",
     "traceback": [
      "\u001b[1;31m---------------------------------------------------------------------------\u001b[0m",
      "\u001b[1;31mAttributeError\u001b[0m                            Traceback (most recent call last)",
      "\u001b[1;32m<ipython-input-2-6cc1e57e27f2>\u001b[0m in \u001b[0;36m<module>\u001b[1;34m\u001b[0m\n\u001b[0;32m      1\u001b[0m \u001b[1;32mfrom\u001b[0m \u001b[0mscipy\u001b[0m \u001b[1;32mimport\u001b[0m \u001b[0mmisc\u001b[0m\u001b[1;33m\u001b[0m\u001b[1;33m\u001b[0m\u001b[0m\n\u001b[0;32m      2\u001b[0m \u001b[1;33m\u001b[0m\u001b[0m\n\u001b[1;32m----> 3\u001b[1;33m \u001b[0mimg\u001b[0m \u001b[1;33m=\u001b[0m \u001b[0mmisc\u001b[0m\u001b[1;33m.\u001b[0m\u001b[0mimread\u001b[0m\u001b[1;33m(\u001b[0m\u001b[1;34m\"Images/Thor_2.jpg\"\u001b[0m\u001b[1;33m)\u001b[0m\u001b[1;33m\u001b[0m\u001b[1;33m\u001b[0m\u001b[0m\n\u001b[0m\u001b[0;32m      4\u001b[0m \u001b[0mplt\u001b[0m\u001b[1;33m.\u001b[0m\u001b[0mimshow\u001b[0m\u001b[1;33m(\u001b[0m\u001b[0mimg\u001b[0m\u001b[1;33m)\u001b[0m\u001b[1;33m\u001b[0m\u001b[1;33m\u001b[0m\u001b[0m\n",
      "\u001b[1;31mAttributeError\u001b[0m: module 'scipy.misc' has no attribute 'imread'"
     ]
    }
   ],
   "source": [
    "from scipy import misc\n",
    "\n",
    "img = misc.imread(\"Images/Thor_2.jpg\")\n",
    "plt.imshow(img)"
   ]
  },
  {
   "cell_type": "code",
   "execution_count": null,
   "id": "474170da",
   "metadata": {},
   "outputs": [],
   "source": [
    "import skimage.io as io\n",
    "from skimage import img_as_ubyte"
   ]
  },
  {
   "cell_type": "code",
   "execution_count": null,
   "id": "57b818da",
   "metadata": {},
   "outputs": [],
   "source": [
    "# read image\n",
    "img = io.imread(\"Images/Thor_2.jpg\")\n",
    "# print dtype and shape of the image\n",
    "print(img.dtype, img.shape)\n",
    "\n",
    "# showing image\n",
    "io.imshow(img)"
   ]
  },
  {
   "cell_type": "code",
   "execution_count": null,
   "id": "01b16f25",
   "metadata": {},
   "outputs": [],
   "source": [
    "# pixel value\n",
    "print(img[0, 0])\n",
    "\n",
    "# range\n",
    "print(img[10:20, 25:35])"
   ]
  },
  {
   "cell_type": "code",
   "execution_count": null,
   "id": "20ac8f8a",
   "metadata": {},
   "outputs": [],
   "source": [
    "# now again i am loading the same image in different variable\n",
    "\n",
    "img_another_var = io.imread(\"Images/Thor_2.jpg\", as_gray=True)\n",
    "print(img_another_var.dtype, img_another_var.shape)\n"
   ]
  },
  {
   "cell_type": "code",
   "execution_count": null,
   "id": "9a39a1a0",
   "metadata": {},
   "outputs": [],
   "source": [
    "# basic geometric transformation\n",
    "from scipy import ndimage\n",
    "\n",
    "# flipped image left to right\n",
    "filliped_LR = np.fliplr(img)\n",
    "# flipped image up and down\n",
    "flipped_UD = np.flipud(img)\n",
    "\n",
    "# ploting both images\n",
    "# subplot 1\n",
    "plt.subplot(2,1,1)\n",
    "plt.imshow(img)\n",
    "# subplot 2\n",
    "plt.subplot(2,2,3)\n",
    "plt.imshow(filliped_LR)\n",
    "# subplot 3\n",
    "plt.subplot(2,2,4)\n",
    "plt.imshow(flipped_UD)"
   ]
  },
  {
   "cell_type": "code",
   "execution_count": null,
   "id": "c9f69dcc",
   "metadata": {},
   "outputs": [],
   "source": [
    "# creating figure\n",
    "fig = plt.figure(figsize=(7, 7))\n",
    "\n",
    "# adding a subplot at the 1st position\n",
    "fig.add_subplot(2, 2 ,1)\n",
    "# show image\n",
    "plt.imshow(img)\n",
    "# title\n",
    "plt.title(\"Original image\")\n",
    "\n",
    "# adding a subplot at the 2nd position\n",
    "fig.add_subplot(2, 2 ,2)\n",
    "# show image\n",
    "plt.imshow(filliped_LR)\n",
    "# title\n",
    "plt.title(\"Flipped left to right\")\n",
    "\n",
    "# adding a subplot at the 3rd position\n",
    "fig.add_subplot(2, 2 ,3)\n",
    "# show image\n",
    "plt.imshow(flipped_UD)\n",
    "# title\n",
    "plt.title(\"Flipped up to bottom\")"
   ]
  },
  {
   "cell_type": "code",
   "execution_count": null,
   "id": "5ab4a7a0",
   "metadata": {},
   "outputs": [],
   "source": [
    "# rotation\n",
    "\n",
    "rotated = ndimage.rotate(img, 45, reshape=False)\n",
    "plt.imshow(rotated)"
   ]
  },
  {
   "cell_type": "code",
   "execution_count": null,
   "id": "35f0c6d4",
   "metadata": {},
   "outputs": [],
   "source": [
    "rotated = ndimage.rotate(img, 45, reshape=True)\n",
    "plt.imshow(rotated)"
   ]
  },
  {
   "cell_type": "code",
   "execution_count": null,
   "id": "c146baba",
   "metadata": {},
   "outputs": [],
   "source": [
    "# filters\n",
    "\n",
    "plt.imshow(img)"
   ]
  },
  {
   "cell_type": "code",
   "execution_count": null,
   "id": "7b79ec53",
   "metadata": {},
   "outputs": [],
   "source": [
    "# uniform filter\n",
    "\n",
    "uniform_filter_img = ndimage.uniform_filter(img, size=3)\n",
    "plt.imshow(uniform_filter_img)"
   ]
  },
  {
   "cell_type": "code",
   "execution_count": null,
   "id": "c65d199a",
   "metadata": {
    "scrolled": true
   },
   "outputs": [],
   "source": [
    "# gausian filter\n",
    "\n",
    "gausian_filter_img = ndimage.gaussian_filter(img, sigma=3)\n",
    "plt.imshow(gausian_filter_img)"
   ]
  },
  {
   "cell_type": "code",
   "execution_count": null,
   "id": "13e599b1",
   "metadata": {
    "scrolled": true
   },
   "outputs": [],
   "source": [
    "# median filter\n",
    "\n",
    "median_filter = ndimage.median_filter(img, 3)\n",
    "plt.imshow(median_filter)"
   ]
  },
  {
   "cell_type": "code",
   "execution_count": null,
   "id": "90895d68",
   "metadata": {},
   "outputs": [],
   "source": [
    "img_1 = io.imread(\"Images/3.jpg.jpg\")\n",
    "plt.imshow(img_1)"
   ]
  },
  {
   "cell_type": "code",
   "execution_count": null,
   "id": "baf3b653",
   "metadata": {},
   "outputs": [],
   "source": [
    "uniform_filter = ndimage.uniform_filter(img_1, size=5)\n",
    "plt.imshow(uniform_filter)"
   ]
  },
  {
   "cell_type": "code",
   "execution_count": null,
   "id": "9e38d54c",
   "metadata": {},
   "outputs": [],
   "source": [
    "gaussian_filter = ndimage.gaussian_filter(img_1, sigma=10)\n",
    "plt.imshow(gaussian_filter)"
   ]
  },
  {
   "cell_type": "code",
   "execution_count": null,
   "id": "0001b0c5",
   "metadata": {},
   "outputs": [],
   "source": [
    "# sobel filter\n",
    "\n",
    "sobel_filter = ndimage.sobel(img_1, axis=0)\n",
    "plt.imshow(sobel_filter)"
   ]
  },
  {
   "cell_type": "code",
   "execution_count": null,
   "id": "43c17b8a",
   "metadata": {},
   "outputs": [],
   "source": [
    "# sobel filter\n",
    "\n",
    "sobel_filter = ndimage.sobel(img_1)\n",
    "plt.imshow(sobel_filter)"
   ]
  },
  {
   "cell_type": "code",
   "execution_count": null,
   "id": "aa473bef",
   "metadata": {},
   "outputs": [],
   "source": [
    "# sobel filter\n",
    "\n",
    "sobel_filter = ndimage.sobel(img_1, axis=1)\n",
    "plt.imshow(sobel_filter)"
   ]
  },
  {
   "cell_type": "code",
   "execution_count": null,
   "id": "b35bf8c9",
   "metadata": {},
   "outputs": [],
   "source": []
  }
 ],
 "metadata": {
  "kernelspec": {
   "display_name": "Python 3",
   "language": "python",
   "name": "python3"
  },
  "language_info": {
   "codemirror_mode": {
    "name": "ipython",
    "version": 3
   },
   "file_extension": ".py",
   "mimetype": "text/x-python",
   "name": "python",
   "nbconvert_exporter": "python",
   "pygments_lexer": "ipython3",
   "version": "3.8.8"
  }
 },
 "nbformat": 4,
 "nbformat_minor": 5
}
